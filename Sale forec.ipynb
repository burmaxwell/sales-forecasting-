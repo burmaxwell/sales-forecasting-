{
 "cells": [
  {
   "cell_type": "code",
   "execution_count": 1,
   "id": "437a8fd8",
   "metadata": {},
   "outputs": [],
   "source": [
    "import datetime\n",
    "import warnings\n",
    "import numpy as np\n",
    "import pandas as pd\n",
    "import seaborn as sns\n",
    "import matplotlib.pyplot as plt\n",
    "import catboost\n",
    "from catboost import Pool\n",
    "from catboost import CatBoostRegressor\n",
    "from xgboost import XGBRegressor\n",
    "from xgboost import plot_importance\n",
    "from sklearn.metrics import mean_squared_error\n",
    "from sklearn.linear_model import LinearRegression\n",
    "from sklearn.neighbors import KNeighborsRegressor\n",
    "from sklearn.ensemble import RandomForestRegressor\n",
    "from sklearn.preprocessing import StandardScaler, MinMaxScaler\n",
    "\n",
    "%matplotlib inline\n",
    "sns.set(style=\"darkgrid\")\n",
    "warnings.filterwarnings(\"ignore\")"
   ]
  },
  {
   "cell_type": "code",
   "execution_count": 2,
   "id": "c933cc53",
   "metadata": {},
   "outputs": [
    {
     "data": {
      "text/plain": [
       "'\\n                                    Data fields\\n\\nID - an Id that represents a (Shop, Item) tuple within the test set\\nshop_id - unique identifier of a shop\\nitem_id - unique identifier of a product\\nitem_category_id - unique identifier of item category\\nitem_cnt_day - number of products sold. !!!!You are predicting a monthly amount of this measure\\nitem_price - current price of an item\\ndate - date in format dd/mm/yyyy\\ndate_block_num - a consecutive month number, used for convenience. January 2013 is 0, February 2013 is 1,..., October 2015 is 33\\nitem_name - name of item\\nshop_name - name of shop\\nitem_category_name - name of item category\\n\\n'"
      ]
     },
     "execution_count": 2,
     "metadata": {},
     "output_type": "execute_result"
    }
   ],
   "source": [
    "\"\"\"\n",
    "                                    Data fields\n",
    "\n",
    "ID - an Id that represents a (Shop, Item) tuple within the test set\n",
    "shop_id - unique identifier of a shop\n",
    "item_id - unique identifier of a product\n",
    "item_category_id - unique identifier of item category\n",
    "item_cnt_day - number of products sold. !!!!You are predicting a monthly amount of this measure\n",
    "item_price - current price of an item\n",
    "date - date in format dd/mm/yyyy\n",
    "date_block_num - a consecutive month number, used for convenience. January 2013 is 0, February 2013 is 1,..., October 2015 is 33\n",
    "item_name - name of item\n",
    "shop_name - name of shop\n",
    "item_category_name - name of item category\n",
    "\n",
    "\"\"\""
   ]
  },
  {
   "cell_type": "code",
   "execution_count": 3,
   "id": "b2f43d66",
   "metadata": {},
   "outputs": [],
   "source": [
    "##загрузка данных\n",
    "items = pd.read_csv('./items.csv')\n",
    "shops = pd.read_csv('./shops.csv')\n",
    "categ = pd.read_csv('./item_categories.csv')\n",
    "train = pd.read_csv('./sales_train.csv')\n",
    "test  = pd.read_csv('./test.csv').set_index('ID') #чтобы не потерять индекс"
   ]
  },
  {
   "cell_type": "code",
   "execution_count": 6,
   "id": "4e6150a1",
   "metadata": {},
   "outputs": [
    {
     "data": {
      "text/html": [
       "<div>\n",
       "<style scoped>\n",
       "    .dataframe tbody tr th:only-of-type {\n",
       "        vertical-align: middle;\n",
       "    }\n",
       "\n",
       "    .dataframe tbody tr th {\n",
       "        vertical-align: top;\n",
       "    }\n",
       "\n",
       "    .dataframe thead th {\n",
       "        text-align: right;\n",
       "    }\n",
       "</style>\n",
       "<table border=\"1\" class=\"dataframe\">\n",
       "  <thead>\n",
       "    <tr style=\"text-align: right;\">\n",
       "      <th></th>\n",
       "      <th>date_block_num</th>\n",
       "      <th>shop_id</th>\n",
       "      <th>item_id</th>\n",
       "      <th>item_price</th>\n",
       "      <th>item_cnt_day</th>\n",
       "    </tr>\n",
       "  </thead>\n",
       "  <tbody>\n",
       "    <tr>\n",
       "      <th>count</th>\n",
       "      <td>2.935849e+06</td>\n",
       "      <td>2.935849e+06</td>\n",
       "      <td>2.935849e+06</td>\n",
       "      <td>2.935849e+06</td>\n",
       "      <td>2.935849e+06</td>\n",
       "    </tr>\n",
       "    <tr>\n",
       "      <th>mean</th>\n",
       "      <td>1.456991e+01</td>\n",
       "      <td>3.300173e+01</td>\n",
       "      <td>1.019723e+04</td>\n",
       "      <td>8.908532e+02</td>\n",
       "      <td>1.242641e+00</td>\n",
       "    </tr>\n",
       "    <tr>\n",
       "      <th>std</th>\n",
       "      <td>9.422988e+00</td>\n",
       "      <td>1.622697e+01</td>\n",
       "      <td>6.324297e+03</td>\n",
       "      <td>1.729800e+03</td>\n",
       "      <td>2.618834e+00</td>\n",
       "    </tr>\n",
       "    <tr>\n",
       "      <th>min</th>\n",
       "      <td>0.000000e+00</td>\n",
       "      <td>0.000000e+00</td>\n",
       "      <td>0.000000e+00</td>\n",
       "      <td>-1.000000e+00</td>\n",
       "      <td>-2.200000e+01</td>\n",
       "    </tr>\n",
       "    <tr>\n",
       "      <th>25%</th>\n",
       "      <td>7.000000e+00</td>\n",
       "      <td>2.200000e+01</td>\n",
       "      <td>4.476000e+03</td>\n",
       "      <td>2.490000e+02</td>\n",
       "      <td>1.000000e+00</td>\n",
       "    </tr>\n",
       "    <tr>\n",
       "      <th>50%</th>\n",
       "      <td>1.400000e+01</td>\n",
       "      <td>3.100000e+01</td>\n",
       "      <td>9.343000e+03</td>\n",
       "      <td>3.990000e+02</td>\n",
       "      <td>1.000000e+00</td>\n",
       "    </tr>\n",
       "    <tr>\n",
       "      <th>75%</th>\n",
       "      <td>2.300000e+01</td>\n",
       "      <td>4.700000e+01</td>\n",
       "      <td>1.568400e+04</td>\n",
       "      <td>9.990000e+02</td>\n",
       "      <td>1.000000e+00</td>\n",
       "    </tr>\n",
       "    <tr>\n",
       "      <th>max</th>\n",
       "      <td>3.300000e+01</td>\n",
       "      <td>5.900000e+01</td>\n",
       "      <td>2.216900e+04</td>\n",
       "      <td>3.079800e+05</td>\n",
       "      <td>2.169000e+03</td>\n",
       "    </tr>\n",
       "  </tbody>\n",
       "</table>\n",
       "</div>"
      ],
      "text/plain": [
       "       date_block_num       shop_id       item_id    item_price  item_cnt_day\n",
       "count    2.935849e+06  2.935849e+06  2.935849e+06  2.935849e+06  2.935849e+06\n",
       "mean     1.456991e+01  3.300173e+01  1.019723e+04  8.908532e+02  1.242641e+00\n",
       "std      9.422988e+00  1.622697e+01  6.324297e+03  1.729800e+03  2.618834e+00\n",
       "min      0.000000e+00  0.000000e+00  0.000000e+00 -1.000000e+00 -2.200000e+01\n",
       "25%      7.000000e+00  2.200000e+01  4.476000e+03  2.490000e+02  1.000000e+00\n",
       "50%      1.400000e+01  3.100000e+01  9.343000e+03  3.990000e+02  1.000000e+00\n",
       "75%      2.300000e+01  4.700000e+01  1.568400e+04  9.990000e+02  1.000000e+00\n",
       "max      3.300000e+01  5.900000e+01  2.216900e+04  3.079800e+05  2.169000e+03"
      ]
     },
     "execution_count": 6,
     "metadata": {},
     "output_type": "execute_result"
    }
   ],
   "source": [
    "##поиск выбросов\n",
    "train.describe()"
   ]
  },
  {
   "cell_type": "code",
   "execution_count": 7,
   "id": "20478e40",
   "metadata": {},
   "outputs": [
    {
     "data": {
      "text/plain": [
       "<AxesSubplot:xlabel='item_price'>"
      ]
     },
     "execution_count": 7,
     "metadata": {},
     "output_type": "execute_result"
    },
    {
     "data": {
      "image/png": "[encoded data removed]",
      "text/plain": [
       "<Figure size 504x216 with 1 Axes>"
      ]
     },
     "metadata": {},
     "output_type": "display_data"
    },
    {
     "data": {
      "image/png": "[encoded data removed]",
      "text/plain": [
       "<Figure size 504x216 with 1 Axes>"
      ]
     },
     "metadata": {},
     "output_type": "display_data"
    }
   ],
   "source": [
    "plt.figure(figsize=(7,3))\n",
    "plt.xlim(-100,2500)\n",
    "sns.boxplot(x=train.item_cnt_day)\n",
    "\n",
    "plt.figure(figsize=(7,3))\n",
    "plt.xlim(-2,310000)\n",
    "sns.boxplot(x=train.item_price)"
   ]
  },
  {
   "cell_type": "code",
   "execution_count": 8,
   "id": "4584762e",
   "metadata": {},
   "outputs": [],
   "source": [
    "train = train[train.item_cnt_day < 1001]\n",
    "train = train[train.item_price < 80000]"
   ]
  },
  {
   "cell_type": "code",
   "execution_count": 9,
   "id": "a7e9f280",
   "metadata": {},
   "outputs": [
    {
     "data": {
      "text/html": [
       "<div>\n",
       "<style scoped>\n",
       "    .dataframe tbody tr th:only-of-type {\n",
       "        vertical-align: middle;\n",
       "    }\n",
       "\n",
       "    .dataframe tbody tr th {\n",
       "        vertical-align: top;\n",
       "    }\n",
       "\n",
       "    .dataframe thead th {\n",
       "        text-align: right;\n",
       "    }\n",
       "</style>\n",
       "<table border=\"1\" class=\"dataframe\">\n",
       "  <thead>\n",
       "    <tr style=\"text-align: right;\">\n",
       "      <th></th>\n",
       "      <th>date</th>\n",
       "      <th>date_block_num</th>\n",
       "      <th>shop_id</th>\n",
       "      <th>item_id</th>\n",
       "      <th>item_price</th>\n",
       "      <th>item_cnt_day</th>\n",
       "    </tr>\n",
       "  </thead>\n",
       "  <tbody>\n",
       "    <tr>\n",
       "      <th>484683</th>\n",
       "      <td>15.05.2013</td>\n",
       "      <td>4</td>\n",
       "      <td>32</td>\n",
       "      <td>2973</td>\n",
       "      <td>-1.0</td>\n",
       "      <td>1.0</td>\n",
       "    </tr>\n",
       "  </tbody>\n",
       "</table>\n",
       "</div>"
      ],
      "text/plain": [
       "              date  date_block_num  shop_id  item_id  item_price  item_cnt_day\n",
       "484683  15.05.2013               4       32     2973        -1.0           1.0"
      ]
     },
     "execution_count": 9,
     "metadata": {},
     "output_type": "execute_result"
    }
   ],
   "source": [
    "#у одного товара цена ниже нуля ---> заменим медианой\n",
    "train[train.item_price < 0]\n",
    "#найдем цены на этот 1 товар 2973 в магазине 32 в период 4, чтобы посчитать медиану"
   ]
  },
  {
   "cell_type": "code",
   "execution_count": 10,
   "id": "e97caf4e",
   "metadata": {},
   "outputs": [],
   "source": [
    "median = train[(train.date_block_num == 4)&(train.shop_id == 32)&(train.item_id == 2973)&\n",
    "               (train.item_cnt_day == 1)&(train.item_price > 0)].item_price.median()\n",
    "\n",
    "train.loc[train.item_price < 0, 'item_price'] = median"
   ]
  },
  {
   "cell_type": "code",
   "execution_count": 11,
   "id": "0eb8897f",
   "metadata": {},
   "outputs": [],
   "source": [
    "##некоторые магазины имеют дубли названий\n",
    "# !Якутск Орджоникидзе id=0, 56 фран, Якутск Орджоникидзе, 56 id=57\n",
    "# !Якутск ТЦ \"Центральный\" фран id=1, Якутск ТЦ \"Центральный id=58\n",
    "# Жуковский ул. Чкалова 39м² id=10, Жуковский ул. Чкалова 39м? id=11\n",
    "\n",
    "train.loc[train.shop_id == 0, 'shop_id'] = 57 #Якутск Орджоникидзе, 56\n",
    "test.loc[test.shop_id == 0, 'shop_id'] = 57\n",
    "\n",
    "train.loc[train.shop_id == 1, 'shop_id'] = 58 #Якутск ТЦ \"Центральный\n",
    "test.loc[test.shop_id == 1, 'shop_id'] = 58\n",
    "\n",
    "train.loc[train.shop_id == 10, 'shop_id'] = 11 #Жуковский ул. Чкалова 39м?\n",
    "test.loc[test.shop_id == 10, 'shop_id'] = 11"
   ]
  },
  {
   "cell_type": "code",
   "execution_count": 12,
   "id": "ab0e4477",
   "metadata": {},
   "outputs": [],
   "source": [
    "#наблюдения:\n",
    "#1.Имена магазинов нач-ся с городов, где они расположены\n",
    "#2.Каждная категория товаров имеет категорию и подкатегорию"
   ]
  },
  {
   "cell_type": "code",
   "execution_count": 13,
   "id": "b08cbb6d",
   "metadata": {},
   "outputs": [],
   "source": [
    "#1:\n",
    "shops.loc[shops.shop_name == 'Сергиев Посад ТЦ \"7Я\"', 'shop_name'] = 'СергиевПосад ТЦ \"7Я\"'\n",
    "shops['city'] = shops.shop_name.str.split(' ').map(lambda x: x[0])"
   ]
  },
  {
   "cell_type": "code",
   "execution_count": 14,
   "id": "64ef7653",
   "metadata": {},
   "outputs": [],
   "source": [
    "from sklearn.preprocessing import LabelEncoder"
   ]
  },
  {
   "cell_type": "code",
   "execution_count": 15,
   "id": "2498f8fc",
   "metadata": {},
   "outputs": [],
   "source": [
    "shops.loc[shops.city == '!Якутск', 'city'] = 'Якутск'\n",
    "shops['city_code'] = LabelEncoder().fit_transform(shops.city)\n",
    "shops = shops[['shop_id','city_code']]"
   ]
  },
  {
   "cell_type": "code",
   "execution_count": 16,
   "id": "b0968858",
   "metadata": {},
   "outputs": [],
   "source": [
    "#2:\n",
    "categ['splt'] = categ['item_category_name'].str.split('-')\n",
    "categ['type'] = categ['splt'].map(lambda x: x[0].strip())\n",
    "categ['type_code'] = LabelEncoder().fit_transform(categ.type)"
   ]
  },
  {
   "cell_type": "code",
   "execution_count": 17,
   "id": "e1960684",
   "metadata": {},
   "outputs": [],
   "source": [
    "categ['subtype'] = categ['splt'].map(lambda x: x[1].strip() if len(x)>1 else x[0].strip())\n",
    "categ['subtype_code'] = LabelEncoder().fit_transform(categ['subtype'])"
   ]
  },
  {
   "cell_type": "code",
   "execution_count": 18,
   "id": "e4ca725b",
   "metadata": {},
   "outputs": [],
   "source": [
    "categ = categ[[\n",
    "    'item_category_id',\n",
    "    'type_code',\n",
    "    'subtype_code'\n",
    "]]"
   ]
  },
  {
   "cell_type": "code",
   "execution_count": 19,
   "id": "eb68b00f",
   "metadata": {},
   "outputs": [],
   "source": [
    "items.drop(['item_name'], axis=1, inplace=True)"
   ]
  },
  {
   "cell_type": "code",
   "execution_count": 31,
   "id": "3596a1cd",
   "metadata": {},
   "outputs": [],
   "source": [
    "#Месячные продажи\n",
    "\n",
    "#Тестовый набор это произведение некоторых магазинов и некоторых продуктов за 34 месяца\n",
    "#Всего 5100 продуктов и 42 магазина = 214200 пар отношения: (продукт, магазин).\n",
    "#Сделовательно, для большенства элементов тестового набора целевое значение должно быть равно нулю\n",
    "#С другой стороны в состав обучающего набора входят только пары, которые были проданы или возвращены в прошлом\n",
    "#Основная идея - рассчитать месячные продажи и дополнить их нулевыми продажами для каждой уникальной пары, в \n",
    "#течении месяца. Т.о. данных из обуч. набора будут аналогичны тестовому набору."
   ]
  },
  {
   "cell_type": "code",
   "execution_count": 57,
   "id": "708d5d82",
   "metadata": {},
   "outputs": [
    {
     "name": "stdout",
     "output_type": "stream",
     "text": [
      "Кол-во ун. товаров, которые есть только в тесте: 363\n",
      "Кол-во ун. товаров теста: 5100\n",
      "Пар (товар, магазин) в тесте: 214200\n"
     ]
    }
   ],
   "source": [
    "print(\"Кол-во ун. товаров, которые есть только в тесте:\",len(list(set(test.item_id) - set(test.item_id).intersection(set(train.item_id))))), \n",
    "#(уникальные id товаров из теста) - (уникальные id товаров из теста) пересечь (уникальные id nоваров из трейн)\n",
    "print(\"Кол-во ун. товаров теста:\",len(list(set(test.item_id)))), \n",
    "print(\"Пар (товар, магазин) в тесте:\",len(test))"
   ]
  },
  {
   "cell_type": "code",
   "execution_count": 87,
   "id": "997d8fb0",
   "metadata": {},
   "outputs": [],
   "source": [
    "from itertools import product\n",
    "\n",
    "temp_matrix = []\n",
    "\n",
    "colms = ['date_block_num','shop_id','item_id']\n",
    "\n",
    "for i in range(34):\n",
    "    sales = train[train['date_block_num'] == i]\n",
    "    #находим все возможные пары (магазин, продукт) для каждого date_block_num\n",
    "    temp_matrix.append(np.array(list(product([i], sales.shop_id.unique(), sales.item_id.unique())), dtype = 'int16'))"
   ]
  },
  {
   "cell_type": "code",
   "execution_count": 88,
   "id": "e2a46b6d",
   "metadata": {},
   "outputs": [],
   "source": [
    "temp_matrix = pd.DataFrame(np.vstack(temp_matrix), columns=colms)\n",
    "temp_matrix['date_block_num'] = temp_matrix['date_block_num'].astype(np.int8)\n",
    "temp_matrix['shop_id'] = temp_matrix['shop_id'].astype(np.int8)\n",
    "temp_matrix['item_id'] = temp_matrix['item_id'].astype(np.int16)"
   ]
  },
  {
   "cell_type": "code",
   "execution_count": 89,
   "id": "700b3868",
   "metadata": {},
   "outputs": [],
   "source": [
    "temp_matrix.sort_values(colms, inplace=True)"
   ]
  },
  {
   "cell_type": "code",
   "execution_count": 91,
   "id": "a0e676de",
   "metadata": {},
   "outputs": [],
   "source": [
    "#Aggregate трейн по паре магазин/продукт для вычисления целевой совокупности, поэтому clip(0,20) целевую переменную\n",
    "#таким образом трейн target будет схожим с тест предикшинами"
   ]
  },
  {
   "cell_type": "code",
   "execution_count": 93,
   "id": "39607cb4",
   "metadata": {},
   "outputs": [],
   "source": [
    "train['revenue'] = train['item_price'] * train['item_cnt_day']"
   ]
  },
  {
   "cell_type": "code",
   "execution_count": 115,
   "id": "872a92b1",
   "metadata": {},
   "outputs": [],
   "source": [
    "group = train.groupby(['date_block_num','shop_id','item_id']).agg({'item_cnt_day' : 'sum'})"
   ]
  },
  {
   "cell_type": "code",
   "execution_count": 116,
   "id": "5f96f41e",
   "metadata": {},
   "outputs": [],
   "source": [
    "group.columns = ['item_cnt_month']"
   ]
  },
  {
   "cell_type": "code",
   "execution_count": 118,
   "id": "9afa2916",
   "metadata": {},
   "outputs": [],
   "source": [
    "group.reset_index(inplace=True)"
   ]
  },
  {
   "cell_type": "code",
   "execution_count": 130,
   "id": "17312eb0",
   "metadata": {},
   "outputs": [],
   "source": [
    "temp_matrix = pd.merge(temp_matrix, group, on=colms, how = 'left')\n",
    "temp_matrix['item_cnt_month'] = (temp_matrix['item_cnt_month'].fillna(0).clip(0,20).astype(np.float16))"
   ]
  },
  {
   "cell_type": "code",
   "execution_count": 132,
   "id": "cbc98f9f",
   "metadata": {},
   "outputs": [],
   "source": [
    "#Тестовая выборка\n",
    "test['date_block_num'] = 34\n",
    "test['date_block_num'] = test['date_block_num'].astype(np.int8)\n",
    "test['shop_id'] = test['shop_id'].astype(np.int8)\n",
    "test['item_id'] = test['item_id'].astype(np.int16)\n",
    "\n",
    "temp_matrix = pd.concat([temp_matrix, test], ignore_index=True, sort=False, keys=colms)\n",
    "temp_matrix.fillna(0, inplace=True)"
   ]
  },
  {
   "cell_type": "code",
   "execution_count": 134,
   "id": "0e06e057",
   "metadata": {},
   "outputs": [],
   "source": [
    "#Магазины/Продукты/Категор. фичи\n",
    "\n",
    "temp_matrix = pd.merge(temp_matrix, shops, on=['shop_id'], how='left')\n",
    "temp_matrix = pd.merge(temp_matrix, items, on=['item_id'], how='left')\n",
    "temp_matrix = pd.merge(temp_matrix, categ, on=['item_category_id'], how='left')\n",
    "temp_matrix['city_code'] = temp_matrix['city_code'].astype(np.int8)\n",
    "temp_matrix['item_category_id'] = temp_matrix['item_category_id'].astype(np.int8)\n",
    "temp_matrix['type_code'] = temp_matrix['type_code'].astype(np.int8)\n",
    "temp_matrix['subtype_code'] = temp_matrix['subtype_code'].astype(np.int8)"
   ]
  },
  {
   "cell_type": "code",
   "execution_count": 136,
   "id": "a02830a1",
   "metadata": {},
   "outputs": [],
   "source": [
    "# Traget lags!!!\n",
    "# Lag features are target values from previous periods.\n",
    "\n",
    "#For example, if you would like to forecast the sales of a retail outlet in period 𝑡\n",
    "#you can use the sales of the previous month 𝑡−1 as a feature. \n",
    "#That would be a lag of 1 and you could say it models some kind of momentum. \n",
    "#But you could also apply a lag of 12 to model the sales of the same month a year ago \n",
    "#(since retail sales are often seasonal depending on the format, category and SKU). \n",
    "#Accordingly, it depends on the dataset which lags work best and looking at correlation is \n",
    "#one way to select the lag values."
   ]
  },
  {
   "cell_type": "code",
   "execution_count": 137,
   "id": "ab5020f4",
   "metadata": {},
   "outputs": [],
   "source": [
    "def lag_feature(df, lags, col):\n",
    "    tmp = df[['date_block_num','shop_id','item_id',col]]\n",
    "    for i in lags:\n",
    "        shifted = tmp.copy()\n",
    "        shifted.columns = ['date_block_num','shop_id','item_id', col+'_lag_'+str(i)]\n",
    "        shifted['date_block_num'] += i\n",
    "        df = pd.merge(df, shifted, on=['date_block_num','shop_id','item_id'], how='left')\n",
    "    return df"
   ]
  },
  {
   "cell_type": "code",
   "execution_count": 138,
   "id": "7eafdf37",
   "metadata": {},
   "outputs": [],
   "source": [
    "temp_matrix = lag_feature(temp_matrix, [1,2,3,6,12], 'item_cnt_month')"
   ]
  },
  {
   "cell_type": "code",
   "execution_count": 140,
   "id": "0c410814",
   "metadata": {},
   "outputs": [],
   "source": [
    "#Mean закодированные фичи\n",
    "group = temp_matrix.groupby(['date_block_num']).agg({'item_cnt_month': ['mean']})\n",
    "group.columns = [ 'date_avg_item_cnt' ]\n",
    "group.reset_index(inplace=True)\n",
    "\n",
    "temp_matrix = pd.merge(temp_matrix, group, on=['date_block_num'], how='left')\n",
    "temp_matrix['date_avg_item_cnt'] = temp_matrix['date_avg_item_cnt'].astype(np.float16)\n",
    "temp_matrix = lag_feature(temp_matrix, [1], 'date_avg_item_cnt')\n",
    "temp_matrix.drop(['date_avg_item_cnt'], axis=1, inplace=True)"
   ]
  },
  {
   "cell_type": "code",
   "execution_count": 141,
   "id": "6d3c7361",
   "metadata": {},
   "outputs": [],
   "source": [
    "group = temp_matrix.groupby(['date_block_num', 'item_id']).agg({'item_cnt_month': ['mean']})\n",
    "group.columns = [ 'date_item_avg_item_cnt' ]\n",
    "group.reset_index(inplace=True)\n",
    "\n",
    "temp_matrix = pd.merge(temp_matrix, group, on=['date_block_num','item_id'], how='left')\n",
    "temp_matrix['date_item_avg_item_cnt'] = temp_matrix['date_item_avg_item_cnt'].astype(np.float16)\n",
    "temp_matrix = lag_feature(temp_matrix, [1,2,3,6,12], 'date_item_avg_item_cnt')\n",
    "temp_matrix.drop(['date_item_avg_item_cnt'], axis=1, inplace=True)"
   ]
  },
  {
   "cell_type": "code",
   "execution_count": 142,
   "id": "33fc7dea",
   "metadata": {},
   "outputs": [],
   "source": [
    "group = temp_matrix.groupby(['date_block_num', 'shop_id']).agg({'item_cnt_month': ['mean']})\n",
    "group.columns = [ 'date_shop_avg_item_cnt' ]\n",
    "group.reset_index(inplace=True)\n",
    "\n",
    "temp_matrix = pd.merge(temp_matrix, group, on=['date_block_num','shop_id'], how='left')\n",
    "temp_matrix['date_shop_avg_item_cnt'] = temp_matrix['date_shop_avg_item_cnt'].astype(np.float16)\n",
    "temp_matrix = lag_feature(temp_matrix, [1,2,3,6,12], 'date_shop_avg_item_cnt')\n",
    "temp_matrix.drop(['date_shop_avg_item_cnt'], axis=1, inplace=True)"
   ]
  },
  {
   "cell_type": "code",
   "execution_count": 143,
   "id": "dc728d17",
   "metadata": {},
   "outputs": [],
   "source": [
    "group = temp_matrix.groupby(['date_block_num', 'item_category_id']).agg({'item_cnt_month': ['mean']})\n",
    "group.columns = [ 'date_cat_avg_item_cnt' ]\n",
    "group.reset_index(inplace=True)\n",
    "\n",
    "temp_matrix = pd.merge(temp_matrix, group, on=['date_block_num','item_category_id'], how='left')\n",
    "temp_matrix['date_cat_avg_item_cnt'] = temp_matrix['date_cat_avg_item_cnt'].astype(np.float16)\n",
    "temp_matrix = lag_feature(temp_matrix, [1], 'date_cat_avg_item_cnt')\n",
    "temp_matrix.drop(['date_cat_avg_item_cnt'], axis=1, inplace=True)"
   ]
  },
  {
   "cell_type": "code",
   "execution_count": 144,
   "id": "4c31921d",
   "metadata": {},
   "outputs": [],
   "source": [
    "group = temp_matrix.groupby(['date_block_num', 'shop_id', 'item_category_id']).agg({'item_cnt_month': ['mean']})\n",
    "group.columns = ['date_shop_cat_avg_item_cnt']\n",
    "group.reset_index(inplace=True)\n",
    "\n",
    "temp_matrix = pd.merge(temp_matrix, group, on=['date_block_num', 'shop_id', 'item_category_id'], how='left')\n",
    "temp_matrix['date_shop_cat_avg_item_cnt'] = temp_matrix['date_shop_cat_avg_item_cnt'].astype(np.float16)\n",
    "temp_matrix = lag_feature(temp_matrix, [1], 'date_shop_cat_avg_item_cnt')\n",
    "temp_matrix.drop(['date_shop_cat_avg_item_cnt'], axis=1, inplace=True)"
   ]
  },
  {
   "cell_type": "code",
   "execution_count": 145,
   "id": "7f2e5d9e",
   "metadata": {},
   "outputs": [],
   "source": [
    "group = temp_matrix.groupby(['date_block_num', 'shop_id', 'type_code']).agg({'item_cnt_month': ['mean']})\n",
    "group.columns = ['date_shop_type_avg_item_cnt']\n",
    "group.reset_index(inplace=True)\n",
    "\n",
    "temp_matrix = pd.merge(temp_matrix, group, on=['date_block_num', 'shop_id', 'type_code'], how='left')\n",
    "temp_matrix['date_shop_type_avg_item_cnt'] = temp_matrix['date_shop_type_avg_item_cnt'].astype(np.float16)\n",
    "temp_matrix = lag_feature(temp_matrix, [1], 'date_shop_type_avg_item_cnt')\n",
    "temp_matrix.drop(['date_shop_type_avg_item_cnt'], axis=1, inplace=True)"
   ]
  },
  {
   "cell_type": "code",
   "execution_count": 146,
   "id": "7fee4bfc",
   "metadata": {},
   "outputs": [
    {
     "ename": "NameError",
     "evalue": "name 'matrix' is not defined",
     "output_type": "error",
     "traceback": [
      "\u001b[0;31m---------------------------------------------------------------------------\u001b[0m",
      "\u001b[0;31mNameError\u001b[0m                                 Traceback (most recent call last)",
      "\u001b[0;32m<ipython-input-146-a9cf2fb2554a>\u001b[0m in \u001b[0;36m<module>\u001b[0;34m\u001b[0m\n\u001b[1;32m      5\u001b[0m \u001b[0mtemp_matrix\u001b[0m \u001b[0;34m=\u001b[0m \u001b[0mpd\u001b[0m\u001b[0;34m.\u001b[0m\u001b[0mmerge\u001b[0m\u001b[0;34m(\u001b[0m\u001b[0mtemp_matrix\u001b[0m\u001b[0;34m,\u001b[0m \u001b[0mgroup\u001b[0m\u001b[0;34m,\u001b[0m \u001b[0mon\u001b[0m\u001b[0;34m=\u001b[0m\u001b[0;34m[\u001b[0m\u001b[0;34m'date_block_num'\u001b[0m\u001b[0;34m,\u001b[0m \u001b[0;34m'shop_id'\u001b[0m\u001b[0;34m,\u001b[0m \u001b[0;34m'subtype_code'\u001b[0m\u001b[0;34m]\u001b[0m\u001b[0;34m,\u001b[0m \u001b[0mhow\u001b[0m\u001b[0;34m=\u001b[0m\u001b[0;34m'left'\u001b[0m\u001b[0;34m)\u001b[0m\u001b[0;34m\u001b[0m\u001b[0;34m\u001b[0m\u001b[0m\n\u001b[1;32m      6\u001b[0m \u001b[0mtemp_matrix\u001b[0m\u001b[0;34m[\u001b[0m\u001b[0;34m'date_shop_subtype_avg_item_cnt'\u001b[0m\u001b[0;34m]\u001b[0m \u001b[0;34m=\u001b[0m \u001b[0mtemp_matrix\u001b[0m\u001b[0;34m[\u001b[0m\u001b[0;34m'date_shop_subtype_avg_item_cnt'\u001b[0m\u001b[0;34m]\u001b[0m\u001b[0;34m.\u001b[0m\u001b[0mastype\u001b[0m\u001b[0;34m(\u001b[0m\u001b[0mnp\u001b[0m\u001b[0;34m.\u001b[0m\u001b[0mfloat16\u001b[0m\u001b[0;34m)\u001b[0m\u001b[0;34m\u001b[0m\u001b[0;34m\u001b[0m\u001b[0m\n\u001b[0;32m----> 7\u001b[0;31m \u001b[0mtemp_matrix\u001b[0m \u001b[0;34m=\u001b[0m \u001b[0mlag_feature\u001b[0m\u001b[0;34m(\u001b[0m\u001b[0mmatrix\u001b[0m\u001b[0;34m,\u001b[0m \u001b[0;34m[\u001b[0m\u001b[0;36m1\u001b[0m\u001b[0;34m]\u001b[0m\u001b[0;34m,\u001b[0m \u001b[0;34m'date_shop_subtype_avg_item_cnt'\u001b[0m\u001b[0;34m)\u001b[0m\u001b[0;34m\u001b[0m\u001b[0;34m\u001b[0m\u001b[0m\n\u001b[0m\u001b[1;32m      8\u001b[0m \u001b[0mtemp_matrix\u001b[0m\u001b[0;34m.\u001b[0m\u001b[0mdrop\u001b[0m\u001b[0;34m(\u001b[0m\u001b[0;34m[\u001b[0m\u001b[0;34m'date_shop_subtype_avg_item_cnt'\u001b[0m\u001b[0;34m]\u001b[0m\u001b[0;34m,\u001b[0m \u001b[0maxis\u001b[0m\u001b[0;34m=\u001b[0m\u001b[0;36m1\u001b[0m\u001b[0;34m,\u001b[0m \u001b[0minplace\u001b[0m\u001b[0;34m=\u001b[0m\u001b[0;32mTrue\u001b[0m\u001b[0;34m)\u001b[0m\u001b[0;34m\u001b[0m\u001b[0;34m\u001b[0m\u001b[0m\n",
      "\u001b[0;31mNameError\u001b[0m: name 'matrix' is not defined"
     ]
    }
   ],
   "source": [
    "group = temp_matrix.groupby(['date_block_num', 'shop_id', 'subtype_code']).agg({'item_cnt_month': ['mean']})\n",
    "group.columns = ['date_shop_subtype_avg_item_cnt']\n",
    "group.reset_index(inplace=True)\n",
    "\n",
    "temp_matrix = pd.merge(temp_matrix, group, on=['date_block_num', 'shop_id', 'subtype_code'], how='left')\n",
    "temp_matrix['date_shop_subtype_avg_item_cnt'] = temp_matrix['date_shop_subtype_avg_item_cnt'].astype(np.float16)\n"
   ]
  },
  {
   "cell_type": "code",
   "execution_count": 147,
   "id": "bb655c87",
   "metadata": {},
   "outputs": [],
   "source": [
    "temp_matrix = lag_feature(temp_matrix, [1], 'date_shop_subtype_avg_item_cnt')\n",
    "temp_matrix.drop(['date_shop_subtype_avg_item_cnt'], axis=1, inplace=True)"
   ]
  },
  {
   "cell_type": "code",
   "execution_count": 148,
   "id": "c58954e7",
   "metadata": {},
   "outputs": [],
   "source": [
    "group = temp_matrix.groupby(['date_block_num', 'city_code']).agg({'item_cnt_month': ['mean']})\n",
    "group.columns = [ 'date_city_avg_item_cnt' ]\n",
    "group.reset_index(inplace=True)\n",
    "\n",
    "temp_matrix = pd.merge(temp_matrix, group, on=['date_block_num', 'city_code'], how='left')\n",
    "temp_matrix['date_city_avg_item_cnt'] = temp_matrix['date_city_avg_item_cnt'].astype(np.float16)\n",
    "temp_matrix = lag_feature(temp_matrix, [1], 'date_city_avg_item_cnt')\n",
    "temp_matrix.drop(['date_city_avg_item_cnt'], axis=1, inplace=True)"
   ]
  },
  {
   "cell_type": "code",
   "execution_count": 149,
   "id": "26979e9f",
   "metadata": {},
   "outputs": [],
   "source": [
    "group = temp_matrix.groupby(['date_block_num', 'item_id', 'city_code']).agg({'item_cnt_month': ['mean']})\n",
    "group.columns = [ 'date_item_city_avg_item_cnt' ]\n",
    "group.reset_index(inplace=True)\n",
    "\n",
    "temp_matrix = pd.merge(temp_matrix, group, on=['date_block_num', 'item_id', 'city_code'], how='left')\n",
    "temp_matrix['date_item_city_avg_item_cnt'] = temp_matrix['date_item_city_avg_item_cnt'].astype(np.float16)\n",
    "temp_matrix = lag_feature(temp_matrix, [1], 'date_item_city_avg_item_cnt')\n",
    "temp_matrix.drop(['date_item_city_avg_item_cnt'], axis=1, inplace=True)"
   ]
  },
  {
   "cell_type": "code",
   "execution_count": 150,
   "id": "c4b99c64",
   "metadata": {},
   "outputs": [],
   "source": [
    "group = temp_matrix.groupby(['date_block_num', 'type_code']).agg({'item_cnt_month': ['mean']})\n",
    "group.columns = [ 'date_type_avg_item_cnt' ]\n",
    "group.reset_index(inplace=True)\n",
    "\n",
    "temp_matrix = pd.merge(temp_matrix, group, on=['date_block_num', 'type_code'], how='left')\n",
    "temp_matrix['date_type_avg_item_cnt'] = temp_matrix['date_type_avg_item_cnt'].astype(np.float16)\n",
    "temp_matrix = lag_feature(temp_matrix, [1], 'date_type_avg_item_cnt')\n",
    "temp_matrix.drop(['date_type_avg_item_cnt'], axis=1, inplace=True)"
   ]
  },
  {
   "cell_type": "code",
   "execution_count": 151,
   "id": "7bb25be0",
   "metadata": {},
   "outputs": [],
   "source": [
    "group = temp_matrix.groupby(['date_block_num', 'subtype_code']).agg({'item_cnt_month': ['mean']})\n",
    "group.columns = [ 'date_subtype_avg_item_cnt' ]\n",
    "group.reset_index(inplace=True)\n",
    "\n",
    "temp_matrix = pd.merge(temp_matrix, group, on=['date_block_num', 'subtype_code'], how='left')\n",
    "temp_matrix['date_subtype_avg_item_cnt'] = temp_matrix['date_subtype_avg_item_cnt'].astype(np.float16)\n",
    "temp_matrix = lag_feature(temp_matrix, [1], 'date_subtype_avg_item_cnt')\n",
    "temp_matrix.drop(['date_subtype_avg_item_cnt'], axis=1, inplace=True)"
   ]
  },
  {
   "cell_type": "code",
   "execution_count": 152,
   "id": "6b0f623b",
   "metadata": {},
   "outputs": [],
   "source": [
    "#Trend features"
   ]
  },
  {
   "cell_type": "code",
   "execution_count": 153,
   "id": "cbfd0b19",
   "metadata": {},
   "outputs": [],
   "source": [
    "group = train.groupby(['item_id']).agg({'item_price': ['mean']})\n",
    "group.columns = ['item_avg_item_price']\n",
    "group.reset_index(inplace=True)\n",
    "\n",
    "temp_matrix = pd.merge(temp_matrix, group, on=['item_id'], how='left')\n",
    "temp_matrix['item_avg_item_price'] = temp_matrix['item_avg_item_price'].astype(np.float16)\n",
    "\n",
    "group = train.groupby(['date_block_num','item_id']).agg({'item_price': ['mean']})\n",
    "group.columns = ['date_item_avg_item_price']\n",
    "group.reset_index(inplace=True)\n",
    "\n",
    "temp_matrix = pd.merge(temp_matrix, group, on=['date_block_num','item_id'], how='left')\n",
    "temp_matrix['date_item_avg_item_price'] = temp_matrix['date_item_avg_item_price'].astype(np.float16)\n",
    "\n",
    "lags = [1,2,3,4,5,6]\n",
    "temp_matrix = lag_feature(temp_matrix, lags, 'date_item_avg_item_price')\n",
    "\n",
    "for i in lags:\n",
    "    temp_matrix['delta_price_lag_'+str(i)] = \\\n",
    "        (temp_matrix['date_item_avg_item_price_lag_'+str(i)] - temp_matrix['item_avg_item_price']) / temp_matrix['item_avg_item_price']\n",
    "\n",
    "def select_trend(row):\n",
    "    for i in lags:\n",
    "        if row['delta_price_lag_'+str(i)]:\n",
    "            return row['delta_price_lag_'+str(i)]\n",
    "    return 0\n",
    "    \n",
    "temp_matrix['delta_price_lag'] = temp_matrix.apply(select_trend, axis=1)\n",
    "temp_matrix['delta_price_lag'] = temp_matrix['delta_price_lag'].astype(np.float16)\n",
    "temp_matrix['delta_price_lag'].fillna(0, inplace=True)\n",
    "\n",
    "# https://stackoverflow.com/questions/31828240/first-non-null-value-per-row-from-a-list-of-pandas-columns/31828559\n",
    "# matrix['price_trend'] = matrix[['delta_price_lag_1','delta_price_lag_2','delta_price_lag_3']].bfill(axis=1).iloc[:, 0]\n",
    "# Invalid dtype for backfill_2d [float16]\n",
    "\n",
    "fetures_to_drop = ['item_avg_item_price', 'date_item_avg_item_price']\n",
    "for i in lags:\n",
    "    fetures_to_drop += ['date_item_avg_item_price_lag_'+str(i)]\n",
    "    fetures_to_drop += ['delta_price_lag_'+str(i)]\n",
    "\n",
    "temp_matrix.drop(fetures_to_drop, axis=1, inplace=True)"
   ]
  },
  {
   "cell_type": "code",
   "execution_count": null,
   "id": "3f4b2bef",
   "metadata": {},
   "outputs": [],
   "source": [
    "#Тренд заработка последнего месяца для магазина"
   ]
  },
  {
   "cell_type": "code",
   "execution_count": null,
   "id": "230e7cb5",
   "metadata": {},
   "outputs": [],
   "source": [
    "group = train.groupby(['date_block_num','shop_id']).agg({'revenue': ['sum']})\n",
    "group.columns = ['date_shop_revenue']\n",
    "group.reset_index(inplace=True)\n",
    "\n",
    "temp_matrix = pd.merge(matrix, group, on=['date_block_num','shop_id'], how='left')\n",
    "temp_matrix['date_shop_revenue'] = temp_matrix['date_shop_revenue'].astype(np.float32)\n",
    "\n",
    "group = group.groupby(['shop_id']).agg({'date_shop_revenue': ['mean']})\n",
    "group.columns = ['shop_avg_revenue']\n",
    "group.reset_index(inplace=True)\n",
    "\n",
    "temp_matrix = pd.merge(temp_matrix, group, on=['shop_id'], how='left')\n",
    "temp_matrix['shop_avg_revenue'] = temp_matrix['shop_avg_revenue'].astype(np.float32)\n",
    "\n",
    "temp_matrix['delta_revenue'] = (temp_matrix['date_shop_revenue'] - temp_matrix['shop_avg_revenue']) / temp_matrix['shop_avg_revenue']\n",
    "temp_matrix['delta_revenue'] = temp_matrix['delta_revenue'].astype(np.float16)\n",
    "\n",
    "temp_matrix = lag_feature(temp_matrix, [1], 'delta_revenue')\n",
    "\n",
    "temp_matrix.drop(['date_shop_revenue','shop_avg_revenue','delta_revenue'], axis=1, inplace=True)"
   ]
  },
  {
   "cell_type": "code",
   "execution_count": null,
   "id": "d95a54ec",
   "metadata": {},
   "outputs": [],
   "source": [
    "temp_matrix['month'] = temp_matrix['date_block_num'] % 12"
   ]
  },
  {
   "cell_type": "code",
   "execution_count": null,
   "id": "0d10d56c",
   "metadata": {},
   "outputs": [],
   "source": [
    "days = pd.Series([31,28,31,30,31,30,31,31,30,31,30,31])\n",
    "temp_matrix['days'] = temp_matrix['month'].map(days).astype(np.int8)"
   ]
  },
  {
   "cell_type": "code",
   "execution_count": null,
   "id": "8bea126f",
   "metadata": {},
   "outputs": [],
   "source": [
    "#Months since the last sale for each shop/item pair and for item only.\n",
    "\n",
    "#Create HashTable with key equals to {shop_id,item_id} and value equals to date_block_num. \n",
    "#Iterate data from the top. Foreach row if {row.shop_id,row.item_id} is not present in the table, \n",
    "#then add it to the table and set its value to row.date_block_num. if HashTable contains key, \n",
    "#then calculate the difference beteween cached value and row.date_block_num."
   ]
  },
  {
   "cell_type": "code",
   "execution_count": null,
   "id": "34a4fd7a",
   "metadata": {},
   "outputs": [],
   "source": [
    "cache = {}\n",
    "temp_matrix['item_shop_last_sale'] = -1\n",
    "temp_matrix['item_shop_last_sale'] = temp_matrix['item_shop_last_sale'].astype(np.int8)\n",
    "for idx, row in temp_matrix.iterrows():    \n",
    "    key = str(row.item_id)+' '+str(row.shop_id)\n",
    "    if key not in cache:\n",
    "        if row.item_cnt_month!=0:\n",
    "            cache[key] = row.date_block_num\n",
    "    else:\n",
    "        last_date_block_num = cache[key]\n",
    "        temp_matrix.at[idx, 'item_shop_last_sale'] = row.date_block_num - last_date_block_num\n",
    "        cache[key] = row.date_block_num"
   ]
  },
  {
   "cell_type": "code",
   "execution_count": null,
   "id": "494200a6",
   "metadata": {},
   "outputs": [],
   "source": [
    "cache = {}\n",
    "temp_matrix['item_last_sale'] = -1\n",
    "temp_matrix['item_last_sale'] = temp_matrix['item_last_sale'].astype(np.int8)\n",
    "for idx, row in temp_matrix.iterrows():    \n",
    "    key = row.item_id\n",
    "    if key not in cache:\n",
    "        if row.item_cnt_month!=0:\n",
    "            cache[key] = row.date_block_num\n",
    "    else:\n",
    "        last_date_block_num = cache[key]\n",
    "        if row.date_block_num>last_date_block_num:\n",
    "            temp_matrix.at[idx, 'item_last_sale'] = row.date_block_num - last_date_block_num\n",
    "            cache[key] = row.date_block_num"
   ]
  },
  {
   "cell_type": "code",
   "execution_count": null,
   "id": "531de3c4",
   "metadata": {},
   "outputs": [],
   "source": [
    "temp_matrix['item_shop_first_sale'] = temp_matrix['date_block_num'] - temp_matrix.groupby(['item_id','shop_id'])['date_block_num'].transform('min')\n",
    "temp_matrix['item_first_sale'] = temp_matrix['date_block_num'] - temp_matrix.groupby('item_id')['date_block_num'].transform('min')"
   ]
  },
  {
   "cell_type": "code",
   "execution_count": null,
   "id": "3d5c54fc",
   "metadata": {},
   "outputs": [],
   "source": [
    "#Final preparations\n",
    "#Because of the using 12 as lag value drop first 12 months. Also drop all the columns with this month \n",
    "#calculated values (other words which can not be calcucated for the test set)."
   ]
  },
  {
   "cell_type": "code",
   "execution_count": null,
   "id": "26fc896f",
   "metadata": {},
   "outputs": [],
   "source": [
    "matrix = matrix[matrix.date_block_num > 11]"
   ]
  },
  {
   "cell_type": "code",
   "execution_count": null,
   "id": "29c84281",
   "metadata": {},
   "outputs": [],
   "source": [
    "def fill_na(df):\n",
    "    for col in df.columns:\n",
    "        if ('_lag_' in col) & (df[col].isnull().any()):\n",
    "            if ('item_cnt' in col):\n",
    "                df[col].fillna(0, inplace=True)         \n",
    "    return df\n",
    "\n",
    "temp_matrix = fill_na(temp_matrix)"
   ]
  },
  {
   "cell_type": "code",
   "execution_count": null,
   "id": "bbe4f5df",
   "metadata": {},
   "outputs": [],
   "source": [
    "temp_matrix.columns"
   ]
  },
  {
   "cell_type": "code",
   "execution_count": null,
   "id": "f4d34253",
   "metadata": {},
   "outputs": [],
   "source": [
    "temp_matrix.info()"
   ]
  },
  {
   "cell_type": "code",
   "execution_count": null,
   "id": "ff35ec91",
   "metadata": {},
   "outputs": [],
   "source": [
    "temp_matrix.to_pickle('data.pkl')\n",
    "del temp_matrix\n",
    "del cache\n",
    "del group\n",
    "del items\n",
    "del shops\n",
    "del cats\n",
    "del train\n",
    "# leave test for submission\n",
    "gc.collect();"
   ]
  },
  {
   "cell_type": "code",
   "execution_count": null,
   "id": "6d72c307",
   "metadata": {},
   "outputs": [],
   "source": [
    "data = pd.read_pickle('data.pkl')"
   ]
  },
  {
   "cell_type": "code",
   "execution_count": null,
   "id": "7ca0db8c",
   "metadata": {},
   "outputs": [],
   "source": [
    "data = data[[\n",
    "    'date_block_num',\n",
    "    'shop_id',\n",
    "    'item_id',\n",
    "    'item_cnt_month',\n",
    "    'city_code',\n",
    "    'item_category_id',\n",
    "    'type_code',\n",
    "    'subtype_code',\n",
    "    'item_cnt_month_lag_1',\n",
    "    'item_cnt_month_lag_2',\n",
    "    'item_cnt_month_lag_3',\n",
    "    'item_cnt_month_lag_6',\n",
    "    'item_cnt_month_lag_12',\n",
    "    'date_avg_item_cnt_lag_1',\n",
    "    'date_item_avg_item_cnt_lag_1',\n",
    "    'date_item_avg_item_cnt_lag_2',\n",
    "    'date_item_avg_item_cnt_lag_3',\n",
    "    'date_item_avg_item_cnt_lag_6',\n",
    "    'date_item_avg_item_cnt_lag_12',\n",
    "    'date_shop_avg_item_cnt_lag_1',\n",
    "    'date_shop_avg_item_cnt_lag_2',\n",
    "    'date_shop_avg_item_cnt_lag_3',\n",
    "    'date_shop_avg_item_cnt_lag_6',\n",
    "    'date_shop_avg_item_cnt_lag_12',\n",
    "    'date_cat_avg_item_cnt_lag_1',\n",
    "    'date_shop_cat_avg_item_cnt_lag_1',\n",
    "    'date_city_avg_item_cnt_lag_1',\n",
    "    'date_item_city_avg_item_cnt_lag_1',\n",
    "    'delta_price_lag',\n",
    "    'month',\n",
    "    'days',\n",
    "    'item_shop_last_sale',\n",
    "    'item_last_sale',\n",
    "    'item_shop_first_sale',\n",
    "    'item_first_sale',\n",
    "]]"
   ]
  },
  {
   "cell_type": "code",
   "execution_count": null,
   "id": "fc920641",
   "metadata": {},
   "outputs": [],
   "source": [
    "X_train = data[data.date_block_num < 33].drop(['item_cnt_month'], axis=1)\n",
    "Y_train = data[data.date_block_num < 33]['item_cnt_month']\n",
    "X_valid = data[data.date_block_num == 33].drop(['item_cnt_month'], axis=1)\n",
    "Y_valid = data[data.date_block_num == 33]['item_cnt_month']\n",
    "X_test = data[data.date_block_num == 34].drop(['item_cnt_month'], axis=1)"
   ]
  },
  {
   "cell_type": "code",
   "execution_count": null,
   "id": "278465db",
   "metadata": {},
   "outputs": [],
   "source": [
    "del data\n",
    "gc.collect();"
   ]
  },
  {
   "cell_type": "code",
   "execution_count": null,
   "id": "3ca9da69",
   "metadata": {},
   "outputs": [],
   "source": [
    "model = XGBRegressor(\n",
    "    max_depth=8,\n",
    "    n_estimators=1000,\n",
    "    min_child_weight=300, \n",
    "    colsample_bytree=0.8, \n",
    "    subsample=0.8, \n",
    "    eta=0.3,    \n",
    "    seed=42)\n",
    "\n",
    "model.fit(\n",
    "    X_train, \n",
    "    Y_train, \n",
    "    eval_metric=\"rmse\", \n",
    "    eval_set=[(X_train, Y_train), (X_valid, Y_valid)], \n",
    "    verbose=True, \n",
    "    early_stopping_rounds = 10)"
   ]
  },
  {
   "cell_type": "code",
   "execution_count": null,
   "id": "6f27c98e",
   "metadata": {},
   "outputs": [],
   "source": [
    "plot_features(model, (10,14))"
   ]
  }
 ],
 "metadata": {
  "kernelspec": {
   "display_name": "Python 3",
   "language": "python",
   "name": "python3"
  },
  "language_info": {
   "codemirror_mode": {
    "name": "ipython",
    "version": 3
   },
   "file_extension": ".py",
   "mimetype": "text/x-python",
   "name": "python",
   "nbconvert_exporter": "python",
   "pygments_lexer": "ipython3",
   "version": "3.8.10"
  }
 },
 "nbformat": 4,
 "nbformat_minor": 5
}
